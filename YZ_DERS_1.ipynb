{
  "nbformat": 4,
  "nbformat_minor": 0,
  "metadata": {
    "colab": {
      "provenance": []
    },
    "kernelspec": {
      "name": "python3",
      "display_name": "Python 3"
    },
    "language_info": {
      "name": "python"
    }
  },
  "cells": [
    {
      "cell_type": "markdown",
      "source": [
        "03.10.2024 - İGÜ MYO BİLGİSAYAR TEKNOLOJİSİ PROGRAMI YAPAY ZEKA DERSİ İLK KODLAMA ÇIKTISI"
      ],
      "metadata": {
        "id": "LjVarb6lYDIV"
      }
    },
    {
      "cell_type": "code",
      "source": [
        "print(\"Merhaba İGÜ MYO YZ DERSİ\") # YAPAY ZEKA DERSİ"
      ],
      "metadata": {
        "colab": {
          "base_uri": "https://localhost:8080/"
        },
        "id": "phl5SygMXuT8",
        "outputId": "6516a242-a34e-4eb7-9989-3d361edbfaf5"
      },
      "execution_count": 1,
      "outputs": [
        {
          "output_type": "stream",
          "name": "stdout",
          "text": [
            "Merhaba İGÜ MYO YZ DERSİ\n"
          ]
        }
      ]
    },
    {
      "cell_type": "code",
      "source": [
        "import sys # import python programlama dilinde yazılıma kütüphane eklemeye yarayan bir kod blogudur.\n",
        "print(sys.version)"
      ],
      "metadata": {
        "colab": {
          "base_uri": "https://localhost:8080/"
        },
        "id": "mtJjnzpFjhIt",
        "outputId": "652f5aef-a695-46be-da9c-0142b1763872"
      },
      "execution_count": 4,
      "outputs": [
        {
          "output_type": "stream",
          "name": "stdout",
          "text": [
            "3.10.12 (main, Sep 11 2024, 15:47:36) [GCC 11.4.0]\n"
          ]
        }
      ]
    },
    {
      "cell_type": "code",
      "source": [
        "from google.colab import drive # google colab - drive bağlantısı\n",
        "\n",
        "drive.mount('/content/drive')"
      ],
      "metadata": {
        "colab": {
          "base_uri": "https://localhost:8080/"
        },
        "id": "ZJXPEgH8k7Or",
        "outputId": "65c993cc-5f4b-4235-f5f9-734e47f0e1e7"
      },
      "execution_count": 5,
      "outputs": [
        {
          "output_type": "stream",
          "name": "stdout",
          "text": [
            "Mounted at /content/drive\n"
          ]
        }
      ]
    },
    {
      "cell_type": "code",
      "source": [
        "import os\n",
        "\n",
        "os.chdir('/content/drive/My Drive/yapayZekaDersi')\n",
        "\n",
        "!pwd # bize kodun çıktısını dosya yolu olarak veren kod blogudur."
      ],
      "metadata": {
        "colab": {
          "base_uri": "https://localhost:8080/"
        },
        "id": "DJQaP-YGlg87",
        "outputId": "30c4d6ec-f3e9-4ed6-b57c-0b8d9a6beefd"
      },
      "execution_count": 8,
      "outputs": [
        {
          "output_type": "stream",
          "name": "stdout",
          "text": [
            "/content/drive/My Drive/yapayZekaDersi\n"
          ]
        }
      ]
    }
  ]
}