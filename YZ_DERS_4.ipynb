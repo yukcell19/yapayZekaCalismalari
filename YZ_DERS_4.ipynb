{
  "nbformat": 4,
  "nbformat_minor": 0,
  "metadata": {
    "colab": {
      "provenance": []
    },
    "kernelspec": {
      "name": "python3",
      "display_name": "Python 3"
    },
    "language_info": {
      "name": "python"
    }
  },
  "cells": [
    {
      "cell_type": "code",
      "execution_count": 1,
      "metadata": {
        "colab": {
          "base_uri": "https://localhost:8080/"
        },
        "id": "9c9pOfF9Rn9P",
        "outputId": "9f2fabb5-0b35-4709-a76b-dfd1276f66f6"
      },
      "outputs": [
        {
          "output_type": "stream",
          "name": "stdout",
          "text": [
            "Merhaba, İGÜ - YAPAY ZEKA geliştirilmesi için kullanılacak kütüphaneler - D3\n"
          ]
        }
      ],
      "source": [
        "print(\"Merhaba, İGÜ - YAPAY ZEKA geliştirilmesi için kullanılacak kütüphaneler - D3\") # print ekrana çıktı veren bir koddur."
      ]
    },
    {
      "cell_type": "code",
      "source": [
        "import sys # import python programlama dilinde yazılıma kütüphane eklemeye yarayan bir kod blogudur.\n",
        "print(sys.version)"
      ],
      "metadata": {
        "colab": {
          "base_uri": "https://localhost:8080/"
        },
        "id": "XavMmnTYR51G",
        "outputId": "6927227b-02d2-40a8-c2c3-1d2a6c1248f7"
      },
      "execution_count": 2,
      "outputs": [
        {
          "output_type": "stream",
          "name": "stdout",
          "text": [
            "3.10.12 (main, Sep 11 2024, 15:47:36) [GCC 11.4.0]\n"
          ]
        }
      ]
    },
    {
      "cell_type": "code",
      "source": [
        "from google.colab import drive # google colab - drive bağlantısı\n",
        "\n",
        "drive.mount('/content/drive')"
      ],
      "metadata": {
        "colab": {
          "base_uri": "https://localhost:8080/"
        },
        "id": "V__2xLKNR7LH",
        "outputId": "ce28b40a-5561-491a-d6f4-716706daf7e0"
      },
      "execution_count": 3,
      "outputs": [
        {
          "output_type": "stream",
          "name": "stdout",
          "text": [
            "Mounted at /content/drive\n"
          ]
        }
      ]
    },
    {
      "cell_type": "code",
      "source": [
        "import os\n",
        "\n",
        "os.chdir('/content/drive/My Drive/yapayZekaDersi')\n",
        "\n",
        "!pwd # bize kodun çıktısını dosya yolu olarak veren kod blogudur."
      ],
      "metadata": {
        "colab": {
          "base_uri": "https://localhost:8080/"
        },
        "id": "dWAHbF6JSCS_",
        "outputId": "4e9a1ed9-50bb-4051-89d0-664cb41ddc8c"
      },
      "execution_count": 5,
      "outputs": [
        {
          "output_type": "stream",
          "name": "stdout",
          "text": [
            "/content/drive/My Drive/yapayZekaDersi\n"
          ]
        }
      ]
    },
    {
      "cell_type": "code",
      "source": [
        "# CPU ve GPU teknolojisinin kullanımına göre olması gereken veri sayısı tablosu\n",
        "\n",
        "import pandas as pd\n",
        "\n",
        "tablo = {\n",
        "    \"Aralık\": [\"Küçük ölçekli\", \"Orta ölçekli\", \"Büyük ölçekli\", \"Hiper ölçekli\", \"Exascale\"],\n",
        "    \"Veri Sayısı\": [\"100 - 10,000\", \"10,000 - 100,000\", \"100,000 - Milyon\",  \"Milyon - Milyar\", \"Milyar - Trilyon\"],\n",
        "    \"CPU\": [\"Evet\", \"Evet\", \"Opsiyonel\", \"Hayır\", \"Hayır\"],\n",
        "    \"GPU\": [\"Hayır\", \"Opsiyonel\", \"Evet\", \"Evet\", \"Evet\"]\n",
        "}\n",
        "\n",
        "print(pd.DataFrame(tablo))"
      ],
      "metadata": {
        "colab": {
          "base_uri": "https://localhost:8080/"
        },
        "id": "V13PPpqpSNBv",
        "outputId": "d568896a-d490-4ab9-ef72-0448babaa84f"
      },
      "execution_count": 6,
      "outputs": [
        {
          "output_type": "stream",
          "name": "stdout",
          "text": [
            "          Aralık       Veri Sayısı        CPU        GPU\n",
            "0  Küçük ölçekli      100 - 10,000       Evet      Hayır\n",
            "1   Orta ölçekli  10,000 - 100,000       Evet  Opsiyonel\n",
            "2  Büyük ölçekli  100,000 - Milyon  Opsiyonel       Evet\n",
            "3  Hiper ölçekli   Milyon - Milyar      Hayır       Evet\n",
            "4       Exascale  Milyar - Trilyon      Hayır       Evet\n"
          ]
        }
      ]
    },
    {
      "cell_type": "code",
      "source": [
        "import pandas as pd\n",
        "\n",
        "# True Positive (TP), True Negative (TN), False Positive (FP), False Negative (FN)\n",
        "matris_bilgisi = {\n",
        "    \"Gerçek Pozitif\": [\"Doğru Pozitif (TP)\", \"Yanlış Negatif (FN)\"],\n",
        "    \"Gerçek Negatif\": [\"Yanlış Pozitif (FP)\", \"Doğru Negatif (TN)\"]\n",
        "}\n",
        "\n",
        "# DataFrame oluşturma\n",
        "matris = pd.DataFrame(matris_bilgisi, index=[\"Tahmin Pozitif\", \"Tahmin Negatif\"])\n",
        "\n",
        "# Tabloyu gösterme\n",
        "print(matris)"
      ],
      "metadata": {
        "colab": {
          "base_uri": "https://localhost:8080/"
        },
        "id": "6o5UALABS1Ac",
        "outputId": "3562fcf0-f7f6-44a5-c529-99b2612dff75"
      },
      "execution_count": 7,
      "outputs": [
        {
          "output_type": "stream",
          "name": "stdout",
          "text": [
            "                     Gerçek Pozitif       Gerçek Negatif\n",
            "Tahmin Pozitif   Doğru Pozitif (TP)  Yanlış Pozitif (FP)\n",
            "Tahmin Negatif  Yanlış Negatif (FN)   Doğru Negatif (TN)\n"
          ]
        }
      ]
    },
    {
      "cell_type": "code",
      "source": [
        "\n",
        "# Scikit-Learn kütüphanesinin sisteme dahil edilmesi ve veri setinin işleme alınması\n",
        "\n",
        "!pip install -U scikit-learn"
      ],
      "metadata": {
        "colab": {
          "base_uri": "https://localhost:8080/"
        },
        "id": "8MwmqXZZU4ty",
        "outputId": "b8f3ced2-d510-4e68-b3e0-05908773bb71"
      },
      "execution_count": 8,
      "outputs": [
        {
          "output_type": "stream",
          "name": "stdout",
          "text": [
            "Requirement already satisfied: scikit-learn in /usr/local/lib/python3.10/dist-packages (1.5.2)\n",
            "Requirement already satisfied: numpy>=1.19.5 in /usr/local/lib/python3.10/dist-packages (from scikit-learn) (1.26.4)\n",
            "Requirement already satisfied: scipy>=1.6.0 in /usr/local/lib/python3.10/dist-packages (from scikit-learn) (1.13.1)\n",
            "Requirement already satisfied: joblib>=1.2.0 in /usr/local/lib/python3.10/dist-packages (from scikit-learn) (1.4.2)\n",
            "Requirement already satisfied: threadpoolctl>=3.1.0 in /usr/local/lib/python3.10/dist-packages (from scikit-learn) (3.5.0)\n"
          ]
        }
      ]
    },
    {
      "cell_type": "code",
      "source": [
        "from sklearn.datasets import fetch_california_housing\n",
        "import pandas as pd\n",
        "\n",
        "# California Housing veri setini yükleme\n",
        "housing = fetch_california_housing()\n",
        "\n",
        "# Özellikleri ve hedef değişkeni almak\n",
        "X = housing.data  # Bağımsız değişkenler (özellikler)\n",
        "y = housing.target  # Bağımlı değişken (fiyatlar)\n",
        "\n",
        "# Verileri bir DataFrame'e dönüştürme\n",
        "df = pd.DataFrame(X, columns=housing.feature_names)\n",
        "df['PRICE'] = y\n",
        "\n",
        "# İlk birkaç satırı görüntüleme\n",
        "print(df.head())"
      ],
      "metadata": {
        "colab": {
          "base_uri": "https://localhost:8080/"
        },
        "id": "N-MM9mmMVz9v",
        "outputId": "1404dafc-c841-475d-e40f-989386653d5c"
      },
      "execution_count": 9,
      "outputs": [
        {
          "output_type": "stream",
          "name": "stdout",
          "text": [
            "   MedInc  HouseAge  AveRooms  AveBedrms  Population  AveOccup  Latitude  \\\n",
            "0  8.3252      41.0  6.984127   1.023810       322.0  2.555556     37.88   \n",
            "1  8.3014      21.0  6.238137   0.971880      2401.0  2.109842     37.86   \n",
            "2  7.2574      52.0  8.288136   1.073446       496.0  2.802260     37.85   \n",
            "3  5.6431      52.0  5.817352   1.073059       558.0  2.547945     37.85   \n",
            "4  3.8462      52.0  6.281853   1.081081       565.0  2.181467     37.85   \n",
            "\n",
            "   Longitude  PRICE  \n",
            "0    -122.23  4.526  \n",
            "1    -122.22  3.585  \n",
            "2    -122.24  3.521  \n",
            "3    -122.25  3.413  \n",
            "4    -122.25  3.422  \n"
          ]
        }
      ]
    }
  ]
}